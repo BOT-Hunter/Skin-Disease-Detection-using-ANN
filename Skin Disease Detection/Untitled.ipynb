{
 "cells": [
  {
   "cell_type": "code",
   "execution_count": 1,
   "id": "d077860d",
   "metadata": {},
   "outputs": [],
   "source": [
    "import numpy as np\n",
    "import pandas as pd"
   ]
  },
  {
   "cell_type": "code",
   "execution_count": 2,
   "id": "a56a9631",
   "metadata": {},
   "outputs": [],
   "source": [
    "from keras.models import load_model"
   ]
  },
  {
   "cell_type": "code",
   "execution_count": 4,
   "id": "5821bf99",
   "metadata": {},
   "outputs": [],
   "source": [
    "model = load_model(\"../Model/my_model.h5\")"
   ]
  },
  {
   "cell_type": "code",
   "execution_count": 5,
   "id": "de5fa570",
   "metadata": {},
   "outputs": [
    {
     "name": "stdout",
     "output_type": "stream",
     "text": [
      "Model: \"sequential_21\"\n",
      "_________________________________________________________________\n",
      " Layer (type)                Output Shape              Param #   \n",
      "=================================================================\n",
      " conv2d_63 (Conv2D)          (None, 30, 30, 256)       7168      \n",
      "                                                                 \n",
      " max_pooling2d_63 (MaxPoolin  (None, 15, 15, 256)      0         \n",
      " g2D)                                                            \n",
      "                                                                 \n",
      " dropout_81 (Dropout)        (None, 15, 15, 256)       0         \n",
      "                                                                 \n",
      " conv2d_64 (Conv2D)          (None, 13, 13, 128)       295040    \n",
      "                                                                 \n",
      " max_pooling2d_64 (MaxPoolin  (None, 6, 6, 128)        0         \n",
      " g2D)                                                            \n",
      "                                                                 \n",
      " dropout_82 (Dropout)        (None, 6, 6, 128)         0         \n",
      "                                                                 \n",
      " conv2d_65 (Conv2D)          (None, 4, 4, 64)          73792     \n",
      "                                                                 \n",
      " max_pooling2d_65 (MaxPoolin  (None, 2, 2, 64)         0         \n",
      " g2D)                                                            \n",
      "                                                                 \n",
      " dropout_83 (Dropout)        (None, 2, 2, 64)          0         \n",
      "                                                                 \n",
      " flatten_21 (Flatten)        (None, 256)               0         \n",
      "                                                                 \n",
      " dense_70 (Dense)            (None, 32)                8224      \n",
      "                                                                 \n",
      " dense_71 (Dense)            (None, 64)                2112      \n",
      "                                                                 \n",
      " dropout_84 (Dropout)        (None, 64)                0         \n",
      "                                                                 \n",
      " dense_72 (Dense)            (None, 3)                 195       \n",
      "                                                                 \n",
      "=================================================================\n",
      "Total params: 386,531\n",
      "Trainable params: 386,531\n",
      "Non-trainable params: 0\n",
      "_________________________________________________________________\n"
     ]
    }
   ],
   "source": [
    "model.summary()"
   ]
  },
  {
   "cell_type": "code",
   "execution_count": 6,
   "id": "62686952",
   "metadata": {},
   "outputs": [],
   "source": [
    "####Test Image"
   ]
  },
  {
   "cell_type": "code",
   "execution_count": 8,
   "id": "0d4cfa56",
   "metadata": {},
   "outputs": [],
   "source": [
    "from glob import glob\n",
    "import os\n",
    "from PIL import Image"
   ]
  },
  {
   "cell_type": "code",
   "execution_count": 9,
   "id": "f0be142d",
   "metadata": {},
   "outputs": [],
   "source": [
    "SIZE = 32"
   ]
  },
  {
   "cell_type": "code",
   "execution_count": 13,
   "id": "4a864372",
   "metadata": {},
   "outputs": [],
   "source": [
    "image_path = {os.path.splitext(os.path.basename(x))[0]: x for x in glob(os.path.join('../Test Data/', '*.jpeg'))}"
   ]
  },
  {
   "cell_type": "code",
   "execution_count": 14,
   "id": "850be9c7",
   "metadata": {},
   "outputs": [],
   "source": [
    "test_image = np.asarray(Image.open(image_path.get(list(image_path.keys())[0])).resize((SIZE, SIZE)))"
   ]
  },
  {
   "cell_type": "code",
   "execution_count": 15,
   "id": "79d0d60a",
   "metadata": {},
   "outputs": [],
   "source": [
    "X = np.asarray(test_image.tolist())\n",
    "X = X/255."
   ]
  },
  {
   "cell_type": "code",
   "execution_count": 16,
   "id": "53128f78",
   "metadata": {},
   "outputs": [
    {
     "data": {
      "text/plain": [
       "(32, 32, 3)"
      ]
     },
     "execution_count": 16,
     "metadata": {},
     "output_type": "execute_result"
    }
   ],
   "source": [
    "X.shape"
   ]
  },
  {
   "cell_type": "code",
   "execution_count": 18,
   "id": "12aafc27",
   "metadata": {},
   "outputs": [],
   "source": [
    "X = X.reshape(1,X.shape[0],X.shape[1],X.shape[2])"
   ]
  },
  {
   "cell_type": "code",
   "execution_count": 19,
   "id": "b3dfaf7e",
   "metadata": {},
   "outputs": [
    {
     "name": "stdout",
     "output_type": "stream",
     "text": [
      "1/1 [==============================] - 1s 776ms/step\n"
     ]
    }
   ],
   "source": [
    "prediction = model.predict(X)"
   ]
  },
  {
   "cell_type": "code",
   "execution_count": 20,
   "id": "81637329",
   "metadata": {},
   "outputs": [
    {
     "data": {
      "text/plain": [
       "array([[9.8189539e-06, 2.4394635e-02, 9.7559559e-01]], dtype=float32)"
      ]
     },
     "execution_count": 20,
     "metadata": {},
     "output_type": "execute_result"
    }
   ],
   "source": [
    "prediction"
   ]
  },
  {
   "cell_type": "code",
   "execution_count": 21,
   "id": "7c5f908a",
   "metadata": {},
   "outputs": [
    {
     "data": {
      "text/plain": [
       "2"
      ]
     },
     "execution_count": 21,
     "metadata": {},
     "output_type": "execute_result"
    }
   ],
   "source": [
    "np.argmax(prediction)"
   ]
  },
  {
   "cell_type": "code",
   "execution_count": null,
   "id": "e339ad74",
   "metadata": {},
   "outputs": [],
   "source": []
  }
 ],
 "metadata": {
  "kernelspec": {
   "display_name": "Python 3 (ipykernel)",
   "language": "python",
   "name": "python3"
  },
  "language_info": {
   "codemirror_mode": {
    "name": "ipython",
    "version": 3
   },
   "file_extension": ".py",
   "mimetype": "text/x-python",
   "name": "python",
   "nbconvert_exporter": "python",
   "pygments_lexer": "ipython3",
   "version": "3.10.6"
  }
 },
 "nbformat": 4,
 "nbformat_minor": 5
}
